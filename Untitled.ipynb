{
 "cells": [
  {
   "cell_type": "markdown",
   "metadata": {},
   "source": [
    "# Populasjonsvekst"
   ]
  },
  {
   "cell_type": "code",
   "execution_count": null,
   "metadata": {},
   "outputs": [],
   "source": [
    "from pylab import *\n",
    "\n",
    "N0 = 1000\n",
    "N = float(N0)\n",
    "t = 20\n",
    "k = 0.4\n",
    "B = 100000\n",
    "\n",
    "tid = []\n",
    "pop = []\n",
    "\n",
    "while N < 1005:\n",
    "    N = N + N*k*(1-(N/B))\n",
    "    tid.append(i)\n",
    "    pop.append(N)\n",
    "    i += 1\n",
    "\n",
    "plot(tid,pop)\n",
    "show()"
   ]
  },
  {
   "cell_type": "markdown",
   "metadata": {},
   "source": []
  }
 ],
 "metadata": {
  "kernelspec": {
   "display_name": "Python 3",
   "language": "python",
   "name": "python3"
  },
  "language_info": {
   "codemirror_mode": {
    "name": "ipython",
    "version": 3
   },
   "file_extension": ".py",
   "mimetype": "text/x-python",
   "name": "python",
   "nbconvert_exporter": "python",
   "pygments_lexer": "ipython3",
   "version": "3.8.3"
  }
 },
 "nbformat": 4,
 "nbformat_minor": 4
}
