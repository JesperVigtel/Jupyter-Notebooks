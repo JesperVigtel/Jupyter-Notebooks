{
 "cells": [
  {
   "cell_type": "markdown",
   "metadata": {},
   "source": [
    "## 3 Oppgave\n",
    " #### 1.  \n",
    " Start  med  ̊a  lage  et  program  som  kalkulerer  gjennomsnittlig  varmestr ̊aling  som  treffer  vertikalt  p ̊ajordklodens atmosfære.  Mengden du f ̊ar kan variere noe fra den m ̊alte solkonstanten.  Prøv  ̊a forklarhvorfor denne formelen fungerer.  For  ̊a f ̊a tips kan det være nyttig  ̊a se p ̊a forklaringen her - ”Solarradiation in space.”\n",
    " \n",
    " #### 2.\n",
    "Bruk energiprinsippet og Stefan-Boltzmanns lov til  ̊a lage et utrykk for gjennomsnittlig temperaturp ̊a jorden.  Noe av innstr ̊alingen fra solen vil bli reflektert, og m ̊alet for refleksjonen til en flate kallesalbedo.  Legg til denne refleksjonsfaktoren for jordkloden og kalkuler temperaturen p ̊a jorden.  Anta attemperaturen p ̊a planeten er konstant, og at planeten er en flat sirkel.Hvorfor kan vi anta at planeten er en flat sirkel?gjennomsnittlig temperatur p ̊a jordkloden er m ̊alt til ca +15◦C, diskuter resultatet dit opp mot denm ̊alte temperaturen.\n",
    "   \n",
    " ####  3. \n",
    "  Legg  til  en  forenklet  modell  av  atmosfæren  som  et  ledd  i  kalkuleringen  av  temperaturen.   Hvordanp ̊avirker det temperaturen din?  Tips, bruk figuren:\n",
    "  \n",
    "     (a)  Anta  to  systemer  hvor Energi inn =Energi ut.   Det  ene  systemet  vil  være  varmestr ̊aling  frasolen  inn  i  systemet  og  varmestr ̊aling  ut  av  systemet  fra  atmosfæren  til  verdensrommet.   Detandre systemet vil være all varmestr ̊aling som treffer jordoverflaten (pil 1 og pil 2 nedover), ogvarmestr ̊aling ut fra jordoverflaten (pil 3).\n",
    "  \n",
    "     (b)  Bruk Stefan-Boltzmanns lov for varmestr ̊aling fra jorden og atmosfæren.  Lag et ligningssystemmed to ukjente og løs for temperaturen ved jordoverflaten.\n",
    "   \n",
    "#### 4.\n",
    "Atmosfæren tar egentlig ikke opp all energien som jordkloden sender ut, og all varmestr ̊aling fra soleng ̊ar heller ikke direkte gjennom atmosfæren.  Her kan det være flere m ̊ater  ̊a forandre modellen p ̊a.Prøv deg fram om du har noen ideer til  ̊a forandre atmosfæren i modellen.  Grunngi hva du gjør.\n",
    "  \n",
    "#### 6. \n",
    "Frem til n ̊a har vi behandlet jordkloden som et stort punkt.  Prøv n ̊a  ̊a velg et punkt p ̊a planeten, ogprøv  ̊a modellere temperaturen p ̊a dette punktet gjennom et helt  ̊ar.  Det vil da være enklest  ̊a velgeet punkt ved ekvator, men du st ̊ar fritt til  ̊a prøve deg fram.  Grunngi valgene du tar."
   ]
  },
  {
   "cell_type": "markdown",
   "metadata": {},
   "source": [
    "## Oppgave 1: "
   ]
  },
  {
   "cell_type": "code",
   "execution_count": 6,
   "metadata": {},
   "outputs": [
    {
     "name": "stdout",
     "output_type": "stream",
     "text": [
      "63199870.27759248\n",
      "Varmestrålingen fra Sola på Jorda er: 1369 W/m^2\n"
     ]
    }
   ],
   "source": [
    "from pylab import *\n",
    "\n",
    "SB = 5.6703*1e-08      #Stefan-Boltzmans konstant\n",
    "T_sol = 5778           #Temperaturen til sola i Kelvin\n",
    "r_sol = 6.963*1e08    #radiusen til sola i meter\n",
    "distanse = 1.496*1e11  #Gjennomsnittsavstand fra Jorda til Sola i meter\n",
    "\n",
    "def S(temp):\n",
    "    return SB*temp**4\n",
    "print(S(T_sol))\n",
    "\n",
    "def varmestråling(Stråling,distanse,radius):\n",
    "    return (Stråling*radius**2)/distanse**2\n",
    "\n",
    "stråling_sol = S(T_sol)\n",
    "solkonstanten = varmestråling(stråling_sol,distanse,r_sol)\n",
    "\n",
    "print(\"Varmestrålingen fra Sola på Jorda er:\", round(solkonstanten), \"W/m^2\")\n",
    "\n",
    "\n"
   ]
  },
  {
   "cell_type": "markdown",
   "metadata": {},
   "source": [
    "#### 1.  \n",
    " Start  med å  lage  et  program  som  kalkulerer  gjennomsnittlig  varmestråling  som  treffer  vertikalt  på jordklodens atmosfære.  Mengden du f ̊ar kan variere noe fra den m ̊alte solkonstanten.  Prøv  ̊a forklarhvorfor denne formelen fungerer.  For  ̊a f ̊a tips kan det være nyttig  ̊a se p ̊a forklaringen her - ”Solarradiation in space.”\n",
    "\n",
    "Det første formelen gjør, er å regne ut hvor mye varmestråling sola sender ut i $ W/m^2 $. Til dette bruker jeg Stefan-Boltzmannslov $ S=σT^4 $. Når jeg har funnet dette, kan jeg finne ut hvor mye energi sola sender ut, ved å gange med overflatearealet til sola, hvor man tar utgangspunkt i at sola er en sirkel. $ overflateareal = 4\\pi*r^2$ . Etter dette kan man visualisere seg at solstrålingen fordeler seg jevnt rundt sola som en kule. Denne kula strekker seg ut i rommet, som en ballong som utvider seg, helt til den treffer jorda. Hvis du deretter deler mengden varmeståling sola sender ut, på overflatearealter av denne kula, vil du finne ut av spredningen til solstrålingen i avstanden fra Jorda, i $ W/m^2 $. \n",
    "\n",
    "\n",
    " "
   ]
  },
  {
   "cell_type": "markdown",
   "metadata": {},
   "source": [
    "\n",
    "#### 2.\n",
    "Bruk energiprinsippet og Stefan-Boltzmanns lov til  ̊a lage et utrykk for gjennomsnittlig temperaturp ̊a jorden.  Noe av innstr ̊alingen fra solen vil bli reflektert, og m ̊alet for refleksjonen til en flate kallesalbedo.  Legg til denne refleksjonsfaktoren for jordkloden og kalkuler temperaturen p ̊a jorden.  Anta attemperaturen p ̊a planeten er konstant, og at planeten er en flat sirkel.Hvorfor kan vi anta at planeten er en flat sirkel?gjennomsnittlig temperatur p ̊a jordkloden er m ̊alt til ca +15◦C, diskuter resultatet dit opp mot denm ̊alte temperaturen.\n",
    "   "
   ]
  },
  {
   "cell_type": "markdown",
   "metadata": {},
   "source": [
    "Energiprinsippet er loven om at energi er konstant.  Det vil si at energi ikke kan skapes eller tilintetgjøres.  Viser på planeter som et lukket system som blir tilført varmestråling fra verdensrommet (hovedsakelig solen),og sender ut varmestråling til verdensrommet. vi tar utgangspunkt i at\n",
    "##### 3.Energi inn = Energi ut.  Temperaturen på planeten er konstant.\n",
    "Stefan-Boltzmannslov $ S=σT^4 $\n",
    "\n",
    "### Energi som treffer planeten\n",
    "\n",
    "$$ E_{inn} = solkonstanten* \\pi *R_{jorda}^2$$\n",
    "\n",
    "### Energi inn i systemet\n",
    "\n",
    "$$E_{absorbert} = K_s * (1 - albedo) * \\pi *R_{jorda}^2$$\n",
    "\n",
    "\n",
    "\n"
   ]
  },
  {
   "cell_type": "code",
   "execution_count": 9,
   "metadata": {},
   "outputs": [
    {
     "name": "stdout",
     "output_type": "stream",
     "text": [
      "63199870.27759248\n",
      "1.7458658619418294e+17\n",
      "1.7458658619418294e+17\n",
      "1324377.048943607\n",
      "Varmestrålingen fra Sola på Jorda er: 1369 W/m^2\n"
     ]
    }
   ],
   "source": [
    "from pylab import *\n",
    "\n",
    "SB = 5.6703*1e-08      #Stefan-Boltzmans konstant\n",
    "T_sol = 5778           #Temperaturen til sola i Kelvin\n",
    "r_sol = 6.963*1e08     #radiusen til sola i meter\n",
    "distanse = 1.496*1e11  #Gjennomsnittsavstand fra Jorda til Sola i meter\n",
    "r_jorda = 6.371*10**6\n",
    "\n",
    "def Stråling(temperatur):           #Stefan-Boltzmanns lov\n",
    "    return SB*temperatur**4\n",
    "\n",
    "def varmestråling(Stråling,distanse,radius):   #Formel for gjennomsnittlig stråling som treffer en planet fra en sol\n",
    "    return (Stråling*radius**2)/distanse**2\n",
    "\n",
    "def stråling_planet(varmestråling,radius):    #Formel for stråling på planet gitt stråling fra sola og radius. \n",
    "    return varmestråling*pi*radius**2\n",
    "\n",
    "\n",
    "\n",
    "stråling_sol = Stråling(T_sol)\n",
    "solkonstanten = varmestråling(stråling_sol,distanse,r_sol)\n",
    "\n",
    "stråling_inn_jorda = stråling_planet(solkonstanten,r_jorda)\n",
    "stråling_ut_jorda = stråling_inn_jorda\n",
    "temperatur_jorda = (stråling_ut_jorda/SB)**(1/4)-273.15\n",
    "\n",
    "print(stråling_sol)\n",
    "print(stråling_inn_jorda)\n",
    "print(stråling_ut_jorda)\n",
    "print(temperatur_jorda)\n",
    "\n",
    "\n",
    "print(\"Varmestrålingen fra Sola på Jorda er:\", round(solkonstanten), \"W/m^2\")\n",
    "\n",
    "\n",
    "\n",
    "\n"
   ]
  },
  {
   "cell_type": "markdown",
   "metadata": {},
   "source": [
    "hei"
   ]
  },
  {
   "cell_type": "code",
   "execution_count": 13,
   "metadata": {},
   "outputs": [
    {
     "name": "stdout",
     "output_type": "stream",
     "text": [
      "1.7458658619418294e+17\n",
      "1.2221061033592805e+17\n"
     ]
    }
   ],
   "source": [
    "e_inn = solkonstanten * pi * r_jorda**2\n",
    "print(e_inn)\n",
    "albedo = 0.30\n",
    "e_absorbert = solkonstanten * (1-albedo) * pi * r_jorda**2\n",
    "print(e_absorbert)"
   ]
  },
  {
   "cell_type": "code",
   "execution_count": null,
   "metadata": {},
   "outputs": [],
   "source": []
  }
 ],
 "metadata": {
  "kernelspec": {
   "display_name": "Python 3",
   "language": "python",
   "name": "python3"
  },
  "language_info": {
   "codemirror_mode": {
    "name": "ipython",
    "version": 3
   },
   "file_extension": ".py",
   "mimetype": "text/x-python",
   "name": "python",
   "nbconvert_exporter": "python",
   "pygments_lexer": "ipython3",
   "version": "3.8.3"
  }
 },
 "nbformat": 4,
 "nbformat_minor": 2
}
