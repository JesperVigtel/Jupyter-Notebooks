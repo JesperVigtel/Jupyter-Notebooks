{
 "cells": [
  {
   "attachments": {},
   "cell_type": "markdown",
   "metadata": {},
   "source": [
    "# Modelleringsprosjekt- Temperatur på jorda\n",
    "\n",
    "Jesper Vigtel Hølland\n",
    "\n",
    "\n",
    "### 1. Hensikt\n",
    "Vi skal her utforske ulike modeller for temperaturen på jorda.\n",
    "\n",
    "### Introduksjon\n",
    "Energibalansen på jordkloden er et veldig komplekst system som er av stor interesse i klimaforskning. For å etterligne et så komplekst system er det flere tunge modeller som har blitt laget for å skape en best mulig etterligning av virkeligheten. Slike modeller brukes for å forstå klimaet og dermed også kunne forutsiklimaforandringer. Det trengs derimot ikke tunge og komplekse modeller for å kunne forstå seg på grunnprinsipper bak klimamodeller. I dette prosjektet skal dere lage en enkel modell som kalkulerer temperaturen på jordkloden, og dermed få et innblikk i klimamodellering.\n",
    "\n",
    "### 2. Teori\n",
    "Modeller er forenklede representasjoner av virkeligheten, og ingen modeller stemmer nøyaktig. Alle modeller forteller noe, men ikke alt, om et eller flere fenomener i virkeligheten. \n",
    "Temperaturmodellering kan være nyttig for å forutsi temperaturen på jorda gitt forskjellige tilfeller, slik som atmosfære, og kan vise betydningen av variasjoner i f.eks. atmosfære eller solstråling. \n",
    "\n",
    "### 2 Teori Del-2:\n",
    "Noe av teorien som er nødvendig for å løse denne oppgaven kan være ukjent for dere. Under kommer en enkel forklaring på noe av teorien dere trenger.\n",
    "\n",
    "#### 2.1 Stefan-Boltzmanns lov\n",
    "Alle gjenstander som har en temperatur over absolutt nullpunkt, vil utgi varmestråling. Varmestråling er elektromagnetisk stråling som fører varme (energi) til eller fra et system. Det er mulig å beregne varmestrålingen fra en gjenstand når man kjenner gjenstandens temperatur og areal ved å bruke Stefan-Boltzmanns naturlov.Matematisk kan denne loven skrivels $$ s = σ\\cdot T^4  $$ \n",
    "der σ er Stefan-Boltzmanns konstant og er lik 5,6703∗10−8W/(m2K4), og temperaturen T er målt i Kelvin. S vil da være lik strålingen fra et legeme gitt i W/m2, og man må tenke på arealet til legemet for å få den fullstendige strålingen.\n",
    "\n",
    "#### 2.2  Kalkulering av gjennomsnittlig elektromagnetisk stråling\n",
    "Solkonstanten er målt gjennomsnittlig elektromagnetisk stråling (energi) fra solen som treffer vertikalt på jordklodens atmosfære. Energien som treffer toppen av atmosfæren har bare variert med 0.2 prosent på 400år. Det blir derfor kalt for en konstant. Denne konstanten er målt til 1361W/m2. Det går an å kalkuleregjennomsnittlig elektromagnetisk stråling som treffer en planet ved å bruke solens varmestråling og distansen mellom solen og planeten i solsystemet. Matematisk vil det se ut: $$ S = \\frac {radius^2_{sol}}{distanse^2_{sol og planet}}∗varmestråling_{sol} $$ hvor S er den gjennomsnittlige strålingen som treffer planeten i W/m2.\n",
    "\n",
    "#### 2.3  Energiprinsippet\n",
    "Energiprinsippet er loven om at energi er konstant. Det vil si at energi ikke kan skapes eller tilintetgjøres. Viser på planeter som et lukket system som blir tilført varmestråling fra verdensrommet (hovedsakelig solen),og sender ut varmestråling til verdensrommet. Det gir tre muligheter:\n",
    "1. Mer stråling tilført enn sendt ut. Planeten varmes opp over tid.\n",
    "2. Mer stråling sendt ut enn tilført. Planeten blir kaldere over tid.\n",
    "3. Energiinn=Energiut. Temperaturen på planeten er konstant.\n",
    "\n",
    "#### 2.4  Forenklet atmosfære\n",
    "Jordkloden har en gjennomsnittlig positiv temperatur på grunn av atmosfæren. Denne temperaturen er målttil ca. 15◦C. Det vil være nødvendig å legge til et utrykk for atmosfæren for å ha en modell av jordklodensom gir temperaturverdier i nærheten av de målte verdiene. En metode for dette er å bruke tre antagelser(og ingen av antagelsene er faktisk sanne!) for å få et forenklet utrykk av atmosfæren. Disse antagelsene er:\n",
    "1. Atmosfæren har en konstant temperatur - dvs. at atmosfæren er en stor blokk hvor hele blokken harden samme temperaturen.\n",
    "2. Atmosfæren er fullstendig gjennomsiktig for stråling fra solen - dvs.  at all stråling fra solen trefferjordoverflaten.\n",
    "3. Atmosfæren tar imot all stråling fra jorden.I figuren nedenfor er situasjonen tegnet.  Atmosfæren er en tenkt blokk som vist i grå farge.  Strålingenfra solen går rett igjennom atmosfæren og treffer jordoverflaten (1). Jordkloden sender ut varmestråling ogall strålingen treffer atmosfæren (3). Situasjonen til atmosfæren vil da være at den sender ut stråling til verdensrommet, men også stråling tilbake til jorden (2). Stefan-Boltzmanns lov vil gjelde for både jordklodenog atmosfæren.\n",
    "\n",
    "\n",
    "##### Modell/oppgave 1\n",
    "Vi starter med en temparaturmodell der vi kun ser på mengden varmestråling som treffer jorda fra sola. Formelen for å kalkulere mengden energi som treffer toppen av atmosfæren ($S_0$) er: \n",
    "\n",
    "$$S_0 = \\large\\frac{{radius_{sol}}^2}{{distanse_{jord\\space sol}}^2} \\cdot stråling\\space sol$$ \n",
    "\n",
    "Here er $S_0$ mengde stråling som treffer jorda fra sola, og $distanse_{jord \\space sol}$ er avstanden mellom sola og jorda. Stråling sol er mengden stråling sola sender ut i alle retninger.\n",
    "\n",
    "##### Modell 2\n",
    "Vi kan utvide modellen vår og innføre en ny kategori av individer som er mottakelige for smitte. Vi kaller dem _S_ (susceptibles).\n",
    "\n",
    "Vi kan anta at de smittede da utvikler seg slik.\n",
    "\n",
    "$$I_{n+1}=I_n+aI_nS_n$$\n",
    "\n",
    "Siden smittede individer ikke lenger er mottakelige, kan de mottakelige individene beskrives slik:\n",
    "\n",
    "$$S_{n+1}=S_n-aI_nS_n$$\n",
    "\n",
    "Vi kan utvide modellen vår til å regne ut temperaturen som vil oppstå på jorda, gitt energiprinsippet og Stefan-Boltzmanns lov. \n",
    "\n",
    "\n",
    "##### Modell 3\n",
    "La oss deretter utforske en modell som også tar hensyn til at det går an å bli frisk fra sykdommen. Da innfører vi en kategori til, nemlig de friske og tidligere smittede. Disse har da immunitet og kan ikke bli smittet igjen. Vi kaller dem _R_ (\"recovered\"), og de kan beskrives slik:\n",
    "\n",
    "$$R_{n+1}=R_n+bI_n$$\n",
    "\n",
    "Da må de smittede utvikle seg slik:\n",
    "\n",
    "$$I_{n+1}=I_n+aS_nI_n-bI_n$$\n",
    "\n",
    "Antall usmittede, men mottakelige individer, _S_, må fortsatt følge denne modellen:\n",
    "\n",
    "$$S_{n+1}=S_n-aI_nS_n$$\n",
    "\n",
    "Disse tre likningene utgjør det vi kaller \"SIR-modellen\" for smitteutvikling. Parameteren _b_ beskriver her _bedringsraten_, altså hvor stor andel av de smittede som blir friske, beskrevet av leddet $b\\cdot I_n$."
   ]
  },
  {
   "cell_type": "markdown",
   "metadata": {},
   "source": [
    "### Oppgave 1: \n",
    "Formelen for å kalkulere mengden energi som treffer toppen av atmosfæren ($S_0$) er: \n",
    "\n",
    "$$S_0 = \\large\\frac{{radius_{sun}}^2}{{distanse_{jord\\space sol}}^2} \\cdot stråling\\space sol$$ "
   ]
  },
  {
   "cell_type": "code",
   "execution_count": 19,
   "metadata": {},
   "outputs": [
    {
     "name": "stdout",
     "output_type": "stream",
     "text": [
      "Varmestrålingen fra Sola på Jorda er: 1369 W/m^2\n"
     ]
    }
   ],
   "source": [
    "from pylab import *\n",
    "\n",
    "#Konstanter\n",
    "sigma = 5.6703*1e-08      #Stefan-Boltzmans konstant\n",
    "T_sol = 5778           #Temperaturen til sola i Kelvin\n",
    "r_sol = 6.963*1e08     #radiusen til sola i meter\n",
    "distanse_sol_jord = 1.496*1e11  #Gjennomsnittsavstand fra Jorda til Sola i meter\n",
    "\n",
    "def S_B_lov(temp):\n",
    "    return sigma*temp**4\n",
    "\n",
    "def varmestråling(Stråling,distanse,radius):\n",
    "    return (Stråling*radius**2)/distanse**2\n",
    "\n",
    "stråling_sol = S_B_lov(T_sol)\n",
    "solkonstanten = varmestråling(stråling_sol,distanse_sol_jord,r_sol)\n",
    "\n",
    "print(\"Varmestrålingen fra Sola på Jorda er:\", round(solkonstanten), \"W/m^2\")\n",
    "\n"
   ]
  },
  {
   "cell_type": "markdown",
   "metadata": {},
   "source": [
    "## Oppgave 2: \n",
    "\n",
    "#### Energi som treffer planeten\n",
    "\n",
    "$$ E_{inn} = solkonstanten \\cdot \\pi * r_{planet}^2$$\n"
   ]
  },
  {
   "cell_type": "code",
   "execution_count": 20,
   "metadata": {},
   "outputs": [
    {
     "name": "stdout",
     "output_type": "stream",
     "text": [
      "Strålingen som treffer jorda fra sola er:  1.7458658619418294e+17  watt\n"
     ]
    }
   ],
   "source": [
    "r_jorda = 6.371e6   #Radius jorda\n",
    "albedo = 0.3\n",
    "\n",
    "def stråling_på_planet(varmestråling,radius):    #Formel for stråling på planet gitt stråling fra sola og radius. \n",
    "    return varmestråling*pi*radius**2\n",
    "\n",
    "stråling_inn_jorda = stråling_på_planet(solkonstanten,r_jorda)\n",
    "print(\"Strålingen som treffer jorda fra sola er: \", stråling_inn_jorda, \" watt\")"
   ]
  },
  {
   "cell_type": "markdown",
   "metadata": {},
   "source": [
    "#### Energi inn i systemet\n",
    "\n",
    "$$ E_{absorbert} = K_s \\cdot (1 - albedo) \\cdot \\pi r{_E}^2 $$"
   ]
  },
  {
   "cell_type": "code",
   "execution_count": 21,
   "metadata": {},
   "outputs": [
    {
     "name": "stdout",
     "output_type": "stream",
     "text": [
      "Strålingen som blir absorbert av jorda er:  1.2221061033592805e+17  watt\n"
     ]
    }
   ],
   "source": [
    "albedo = 0.30  #Refleksjonskonstanten til Jorda\n",
    "stråling_absorbert = solkonstanten * (1-albedo) * pi * r_jorda**2  #Finne ut hvor mye av strålingen som blir absorbert\n",
    "\n",
    "print(\"Strålingen som blir absorbert av jorda er: \", stråling_absorbert, \" watt\")"
   ]
  },
  {
   "cell_type": "markdown",
   "metadata": {},
   "source": [
    "### Energi ut av systemet\n",
    "\n",
    "Stefan-Boltzmann loven: Hvor mye energi som blir sendt ut fra overfalten til et legeme per flatenhet og tidsenhet i form av varmestråling. \n",
    "\n",
    "$$\\phi=\\sigma T^4$$\n",
    "\n",
    "$\\sigma$ er Stefan-Boltzmann constant. \n",
    "$\\sigma = 5.670373 \\cdot 10^{-8} W / (m^2K^4)$\n",
    "\n",
    "$$E_{emittert} = \\sigma T^4 \\cdot 4\\pi R{_E}^2$$"
   ]
  },
  {
   "cell_type": "markdown",
   "metadata": {},
   "source": [
    "### Energi inn = Energi ut\n",
    "\n",
    "\n",
    "På grunn av energiprinsippet, loven om at energi er konstant, må energi inn på planeten være det samme som energi ut.\n",
    "\n",
    "$$ E_{absorbert}= E_{emittert}$$\n",
    "\n",
    "$$ K_s \\cdot (1 - albedo) \\cdot \\pi R{_E}^2 = \\sigma T^4 \\cdot 4\\pi R{_E}^2$$\n",
    "\n",
    "$$T = \\sqrt[4]{\\frac{K_s\\cdot(1-albedo)}{4\\sigma}}$$\n"
   ]
  },
  {
   "cell_type": "code",
   "execution_count": 23,
   "metadata": {},
   "outputs": [
    {
     "name": "stdout",
     "output_type": "stream",
     "text": [
      "Beregningen av gjennomsnittstemperaturen gir en temperatur på: -18.19 celsius\n"
     ]
    }
   ],
   "source": [
    "tempjorda_kelvin = ((solkonstanten*(1-albedo))/(4*sigma))**(1/4)\n",
    "tempjorda_celsius = tempjorda_kelvin - 273.15\n",
    "print (f\"Beregningen av gjennomsnittstemperaturen gir en temperatur på: {tempjorda_celsius:.2f} celsius\")"
   ]
  },
  {
   "cell_type": "markdown",
   "metadata": {},
   "source": [
    "## Oppgave 3: "
   ]
  },
  {
   "cell_type": "markdown",
   "metadata": {},
   "source": [
    "Når vi skal legge til atmosfæren i modellen gjør vi ganske mange forenklinger. Vi antar tre ting: \n",
    "\n",
    "1) Atmosfæren har en konstant temperatur - dvs. at atmosfæren er en stor blokk hvor hele blokken har den samme temperaturen.<br>\n",
    "2) Atmosfæren er fullstendig gjennomsiktig for stråling fra solen - dvs at all stråling fra solen treffer jordoverflaten. <br>\n",
    "3) Atmosfæren tar imot all stråling fra jorden."
   ]
  },
  {
   "cell_type": "markdown",
   "metadata": {},
   "source": [
    "#### $Energi_{inn} = Energi_{ut}$ \n",
    "er fortsatt det som gjelder, men denne gangen blir det to ligninger. Etter systemet nevnt i oppgave 1 blir likningene:\n",
    "\n",
    "$$\\space s_0\\cdot(1-albedo) = \\sigma T_{a}^4 $$\n",
    "$$\\space s_0\\cdot(1-albedo) + \\sigma T_{a}^4 = \\sigma T_{s}^4$$\n",
    "\n",
    "Sett likning 1 inn i 2 for å få en løsning for $T_{s}$\n",
    "\n",
    "Prøv å vis på figuren hvilke piler disse to likningene representerer. Prøv å forklar til deg selv hva som er gjort her for å forstå likningsystemet. \n",
    "\n",
    "Kommentar: Resultatet her vil være veldig høyt. I denne situasjonen vil energien til atmosfæren være det jorden sender ut. Vi har jo kalkulert at jorden blir truffet med 1365 watt/m^2, men denne energien vil bare være når solen står på sitt høyeste vertikalt rett ned på jorden. På grunn av rotasjonen til jorden, med natt og dagsykluser, og at jorden egentlig er en kule vil ikke dette være den faktiske gjennomsnittelige innstrålingen som treffer jorden. En forenkling for å finne gjennomsnitt på innstrålingen over hele jordkloden når man tenker at deler ikke får like mye sollys hele tiden vil da være: $S_{0}$/4 = 1365/4 watt/$m^2$. Dette nummeret er veldig nærme den observerte gjennomsnittelige energien som treffer jorden. Sett inn $S_{0}/4$ inn for $S_{0}$ og sjekk hva som skjer med $T_{s}$.\n",
    "\n"
   ]
  },
  {
   "cell_type": "markdown",
   "metadata": {},
   "source": [
    "Kommentar:\n",
    "\n",
    "\n",
    "(1) Fordi Jorda i første ledd tar imot stråling fra sola, vil den første likningen ta for seg strålingsmengenden her. Den går altså ut på hvor mye stråing som treffer jorda fra sola. <br>\n",
    "(2) Den andre er mengde stråling jorda sender ut, pga sin egen temperatur. Denne strålingen vil atmosfæren absorbere, og ut ifra temperaturen til atmosfæren, vil den sende ut stråling to veier. En til jorda, og en til verdensrommet. I begge disse tilfellene bruker vi stefan_boltzmannslov for å beregne mengde stråling som sendes ut. men vi må også ta hensyn til at solen nå får inn mer stråling, pga atmosfæren, og at dette vil føre til en temperaturendring. <br> \n",
    "\n",
    "#### Energi inn = Energi ut\n",
    "\n",
    "det vil si at \n",
    "###### Energi inn jorda fra sola = Energi ut i verdensrommet fra atmosfæren\n",
    "Strålingen ut i verdensrommet fra atmosfæren må være lik 1/2 av strålingen fra jorda på atmosfæren. og Strålingen fra jorda på atmosfæren på være lik strålingen fra sola + strålingen fra atmosfæren. dette vil si at:\n",
    "\n",
    "$$ (1)  Stråling_{sol-jord} = \\frac {Stråling_{ut\\space av\\space atmosfæren}}{2} $$\n",
    "\n",
    "$$ (2)  Stråling_{fra\\space jorda\\space på\\space atmosfæren} = Stråling_{ut\\space av \\space atmosfæren} $$\n",
    "\n",
    "$$ (3)  Stråling_{inn\\space jord} = Stråling_{sol} + \\frac {Stråling_{ut\\space atmosfære}}{2}  $$\n",
    "\n",
    "Da setter vi formel (1) inn i (3) og vi får formelen formelen: \n",
    "\n",
    "$$ Stråling_{fra\\space jorda\\space på\\space atmosfæren} = {2*Stråling_{sol-jord}}  $$\n",
    "\n",
    "og temperaturen på jorda er da: \n",
    "\n",
    "$$ T_{jorda} = (\\frac{2*Stråling_{sol-jord}}{\\sigma})^{\\frac{1}{4}}  $$"
   ]
  },
  {
   "cell_type": "code",
   "execution_count": 27,
   "metadata": {},
   "outputs": [
    {
     "name": "stdout",
     "output_type": "stream",
     "text": [
      "155.63733306542218\n"
     ]
    }
   ],
   "source": [
    "Ny_tempjorda_kelvin = (2*solkonstanten*(1-albedo)/sigma)**(1/4)\n",
    "Ny_tempjorda_celcius = Ny_tempjorda_kelvin - 273.15\n",
    "print(Ny_tempjorda_celcius)\n"
   ]
  },
  {
   "cell_type": "markdown",
   "metadata": {},
   "source": [
    "Ideer til slutt: \n",
    "    legge til at atmosfæren tar imot stråligen først, hvor noe slipper gjennom og resten absorbert\n",
    "    kankjse noe reflektert\n",
    "    "
   ]
  },
  {
   "cell_type": "code",
   "execution_count": null,
   "metadata": {},
   "outputs": [],
   "source": []
  }
 ],
 "metadata": {
  "kernelspec": {
   "display_name": "Python 3",
   "language": "python",
   "name": "python3"
  },
  "language_info": {
   "codemirror_mode": {
    "name": "ipython",
    "version": 3
   },
   "file_extension": ".py",
   "mimetype": "text/x-python",
   "name": "python",
   "nbconvert_exporter": "python",
   "pygments_lexer": "ipython3",
   "version": "3.8.3"
  }
 },
 "nbformat": 4,
 "nbformat_minor": 4
}
