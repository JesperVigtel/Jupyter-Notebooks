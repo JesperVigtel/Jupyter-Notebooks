{
 "cells": [
  {
   "cell_type": "code",
   "execution_count": 10,
   "metadata": {},
   "outputs": [
    {
     "name": "stdout",
     "output_type": "stream",
     "text": [
      "4023452520000.0\n",
      "135777071.4525639\n"
     ]
    }
   ],
   "source": [
    "from pylab import *\n",
    "\n",
    "SB = 5.6703*10*1e-08   #Stefan-Boltzmans konstant\n",
    "T_sol = 5778           #Temperatur Sola i Kelvin\n",
    "r_sol = 696340*1e03    #radiusen til sola i meter\n",
    "distanse = 1.496*1e08  #Gjennomsnittsavtand fra Jorda til Sola i meter\n",
    "\n",
    "def varmestråling(Temp,dist,r):\n",
    "    return (SB*Temp**4*dist)/r\n",
    "\n",
    "print(varmestråling(T_sol,distanse,r_sol))"
   ]
  },
  {
   "cell_type": "code",
   "execution_count": null,
   "metadata": {},
   "outputs": [],
   "source": []
  }
 ],
 "metadata": {
  "kernelspec": {
   "display_name": "Python 3",
   "language": "python",
   "name": "python3"
  },
  "language_info": {
   "codemirror_mode": {
    "name": "ipython",
    "version": 3
   },
   "file_extension": ".py",
   "mimetype": "text/x-python",
   "name": "python",
   "nbconvert_exporter": "python",
   "pygments_lexer": "ipython3",
   "version": "3.8.3"
  }
 },
 "nbformat": 4,
 "nbformat_minor": 4
}
