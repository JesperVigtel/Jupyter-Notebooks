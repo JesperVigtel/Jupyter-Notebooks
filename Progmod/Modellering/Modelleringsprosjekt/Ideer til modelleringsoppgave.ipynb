{
 "cells": [
  {
   "cell_type": "markdown",
   "metadata": {},
   "source": [
    "# Rapporten\n",
    "\n",
    "Se på det Andres har lagt ut på nettsiden:\n",
    "https://andreasdh.github.io/Programmering-og-modellering/docs/smittemodellrapport.html\n",
    "https://andreasdh.github.io/Programmering-og-modellering/docs/modellering_kinematikk.html\n",
    "\n",
    "## Mine ideer:\n",
    "#### Rakettoppskyting:\n",
    "- Modell 1 -> tyngdekraft uten luftmotstand\n",
    "- Modell 2 -> tyngekraft og luftmotstand\n",
    "- Modell 3 -> tyngekraft integral av avstand til jorda med luftmotstand\n",
    "- Modell 4 -> modell 3 + luftmotsatnd som integral av fart\n",
    "\n",
    "\n",
    "#### Induskjon\n",
    "-Modell 1 ->\n"
   ]
  },
  {
   "cell_type": "code",
   "execution_count": null,
   "metadata": {},
   "outputs": [],
   "source": []
  }
 ],
 "metadata": {
  "kernelspec": {
   "display_name": "Python 3",
   "language": "python",
   "name": "python3"
  },
  "language_info": {
   "codemirror_mode": {
    "name": "ipython",
    "version": 3
   },
   "file_extension": ".py",
   "mimetype": "text/x-python",
   "name": "python",
   "nbconvert_exporter": "python",
   "pygments_lexer": "ipython3",
   "version": "3.8.3"
  }
 },
 "nbformat": 4,
 "nbformat_minor": 4
}
