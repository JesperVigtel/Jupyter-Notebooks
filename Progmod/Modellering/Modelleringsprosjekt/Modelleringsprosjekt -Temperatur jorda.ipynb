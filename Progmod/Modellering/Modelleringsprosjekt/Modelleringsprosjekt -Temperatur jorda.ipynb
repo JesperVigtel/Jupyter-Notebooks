{
 "cells": [
  {
   "cell_type": "markdown",
   "metadata": {},
   "source": [
    "# Modelleringsprosjekt - Temperatur på jordkloden\n",
    "2021\n",
    "Programmering og modelleringLeveringfrist:  26.  mars1\n",
    "## Introduksjon\n",
    "Energibalansen p ̊a jordkloden er et veldig komplekst system som er av stor interesse i klimaforskning.  For ̊a  etterligne  et  s ̊a  komplekst  system  er  det  flere  tunge  modeller  som  har  blitt  laget  for  ̊a  skape  en  bestmulig etterligning av virkeligheten.  Slike modeller brukes for  ̊a forst ̊a klimaet og dermed ogs ̊a kunne forutsiklimaforandringer.  Det trengs derimot ikke tunge og komplekse modeller for  ̊a kunne forst ̊a seg p ̊a grun-nprinsipper bak klimamodeller.  I dette prosjektet skal dere lage en enkel modell som kalkulerer temperaturenp ̊a jordkloden, og dermed f ̊a et innblikk i klimamodellering.\n",
    "\n",
    "### Fremgangsmåte\n",
    "Prosjektet skal presenteres i Jupyter Notebook, i formen dere har blitt gjort kjent med.  Ta utgangspunkt ieksempelet som ligger ute for hvordan dere skal skrive en rapport.  Det er viktig at det er presentert p ̊a enryddig m ̊ate slik at det er enkelt  ̊a følge med p ̊a hva dere har gjort.  Prosjektet skal leveres den26. mars.Det er mulig  ̊a samarbeide i grupper p ̊a 2-3 personer.  Vurderingskriterier legges ut p ̊a teams.2   \n",
    "\n",
    "## Teori\n",
    "Noe av teorien som er nødvendig for  ̊a løse denne oppgaven kan være ukjent for dere.  Under kommer enenkel forklaring p ̊a noe av teorien dere trenger.\n",
    "### 2.1  Stefan-Boltzmanns lov\n",
    "Alle gjenstander som har en temperatur over absolutt nullpunkt vil utgi varmestr ̊aling. Varmestr ̊aling er elek-tromagnetisk str ̊aling som fører varme (energi) til eller fra et system.  Det er mulig  ̊a beregne varmestr ̊alingenfra en gjenstand n ̊ar man kjenner gjenstandens temperatur og areal ved  ̊a bruke Stefan-Boltzmanns naturlov.Matematisk kan denne loven skrives:S=σT4derσer Stefan-Boltzmanns konstant og er lik 5,6703∗10−8W/(m2K4), og temperaturenTer m ̊alt i Kelvin.S vil da være lik str ̊alingen fra et legeme gitt iW/m2, og man m ̊a tenke p ̊a arealet til legemet for  ̊a f ̊a denfullstendige str ̊alingen.\n",
    "### 2.2    Kalkulering av gjennomsnittlig elektromagnetisk str ̊aling\n",
    "Solkonstanten er m ̊alt gjennomsnittlig elektromagnetisk str ̊aling (energi) fra solen som treffer vertikalt p ̊ajordklodens atmosfære.  Energien som treffer toppen av atmosfæren har bare variert med 0.2 prosent p ̊a 400 ̊ar.  Det blir derfor kalt for en konstant.  Denne konstanten er m ̊alt til 1361W/m2.  Det g ̊ar an  ̊a kalkuleregjennomsnittlig elektromagnetisk str ̊aling som treffer en planet ved  ̊a bruke solens varmestr ̊aling og distansemellom solen og planeten i solsystemet.  Matematisk vil det se ut:S=radius2soldistanse2sol og planet∗varmestr ̊aling solhvor S er den gjennomsnittlige str ̊alingen som treffer planeten iW/m2.2.3    EnergiprinsippetEnergiprinsippet er loven om at energi er konstant.  Det vil si at energi ikke kan skapes eller tilintetgjøres.  Viser p ̊a planeter som et lukket system som blir tilført varmestr ̊aling fra verdensrommet (hovedsakelig solen),og sender ut varmestr ̊aling til verdensrommet.  Det gir tre muligheter:1.  Mer str ̊aling tilført enn sendt ut.  Planeten varmes opp over tid.2.  Mer str ̊aling sendt ut enn tilført.  Planeten blir kaldere over tid.3.Energiinn=Energiut.  Temperaturen p ̊a planeten er konstant.2.4    Forenklet atmosfæreJordkloden har en gjennomsnittlig positiv temperatur p ̊a grunn av atmosfæren.  Denne temperaturen er m ̊alttil ca.  15◦C. Det vil være nødvendig  ̊a legge til et utrykk for atmosfæren for  ̊a ha en modell av jordklodensom gir temperaturverdier i nærheten av de m ̊alte verdiene.  En metode for dette er  ̊a bruke tre antagelser(og ingen av antagelsene er faktisk sanne!)  for  ̊a f ̊a et forenklet utrykk av atmosfæren.  Disse antagelsene er:1.  Atmosfæren har en konstant temperatur - dvs.  at atmosfæren er en stor blokk hvor hele blokken harden samme temperaturen.2.  Atmosfæren  er  fullstendig  gjennomsiktig  for  str ̊aling  fra  solen  -  dvs.   at  all  str ̊aling  fra  solen  trefferjordoverflaten.3.  Atmosfæren tar imot all str ̊aling fra jorden.I  figuren  nedenfor  er  situasjonen  tegnet.   Atmosfæren  er  en  tenkt  blokk  som  vist  i  gr ̊a  farge.   Str ̊alingenfra solen g ̊ar rett igjennom atmosfæren og treffer jordoverflaten (1).  Jordkloden sender ut varmestr ̊aling ogall str ̊alingen treffer atmosfæren (3).  Situasjonen til atmosfæren vil da være at den sender ut str ̊aling tilverdensrommet, men ogs ̊a str ̊aling tilbake til jorden (2).  Stefan-Boltzmanns lov vil gjelde for b ̊ade jordklodenog atmosfæren.\n",
    "Figure 1:  En forenklet modell av atmosfæren3    Oppgave1.  Start  med  ̊a  lage  et  program  som  kalkulerer  gjennomsnittlig  varmestr ̊aling  som  treffer  vertikalt  p ̊ajordklodens atmosfære.  Mengden du f ̊ar kan variere noe fra den m ̊alte solkonstanten.  Prøv  ̊a forklarhvorfor denne formelen fungerer.  For  ̊a f ̊a tips kan det være nyttig  ̊a se p ̊a forklaringen her - ”Solarradiation in space.”2.  Bruk energiprinsippet og Stefan-Boltzmanns lov til  ̊a lage et utrykk for gjennomsnittlig temperaturp ̊a jorden.  Noe av innstr ̊alingen fra solen vil bli reflektert, og m ̊alet for refleksjonen til en flate kallesalbedo.  Legg til denne refleksjonsfaktoren for jordkloden og kalkuler temperaturen p ̊a jorden.  Anta attemperaturen p ̊a planeten er konstant, og at planeten er en flat sirkel.Hvorfor kan vi anta at planeten er en flat sirkel?gjennomsnittlig temperatur p ̊a jordkloden er m ̊alt til ca +15◦C, diskuter resultatet dit opp mot denm ̊alte temperaturen.3.  Legg  til  en  forenklet  modell  av  atmosfæren  som  et  ledd  i  kalkuleringen  av  temperaturen.   Hvordanp ̊avirker det temperaturen din?  Tips, bruk figuren:(a)  Anta  to  systemer  hvorEnergiinn=Energiut.   Det  ene  systemet  vil  være  varmestr ̊aling  frasolen  inn  i  systemet  og  varmestr ̊aling  ut  av  systemet  fra  atmosfæren  til  verdensrommet.   Detandre systemet vil være all varmestr ̊aling som treffer jordoverflaten (pil 1 og pil 2 nedover), ogvarmestr ̊aling ut fra jordoverflaten (pil 3).(b)  Bruk Stefan-Boltzmanns lov for varmestr ̊aling fra jorden og atmosfæren.  Lag et ligningssystemmed to ukjente og løs for temperaturen ved jordoverflaten.4.5.  Atmosfæren tar egentlig ikke opp all energien som jordkloden sender ut, og all varmestr ̊aling fra soleng ̊ar heller ikke direkte gjennom atmosfæren.  Her kan det være flere m ̊ater  ̊a forandre modellen p ̊a.Prøv deg fram om du har noen ideer til  ̊a forandre atmosfæren i modellen.  Grunngi hva du gjør.6.  Frem til n ̊a har vi behandlet jordkloden som et stort punkt.  Prøv n ̊a  ̊a velg et punkt p ̊a planeten, ogprøv  ̊a modellere temperaturen p ̊a dette punktet gjennom et helt  ̊ar.  Det vil da være enklest  ̊a velgeet punkt ved ekvator, men du st ̊ar fritt til  ̊a prøve deg fram.  Grunngi valgene du tar.\n"
   ]
  },
  {
   "cell_type": "code",
   "execution_count": null,
   "metadata": {},
   "outputs": [],
   "source": []
  }
 ],
 "metadata": {
  "kernelspec": {
   "display_name": "Python 3",
   "language": "python",
   "name": "python3"
  },
  "language_info": {
   "codemirror_mode": {
    "name": "ipython",
    "version": 3
   },
   "file_extension": ".py",
   "mimetype": "text/x-python",
   "name": "python",
   "nbconvert_exporter": "python",
   "pygments_lexer": "ipython3",
   "version": "3.8.3"
  }
 },
 "nbformat": 4,
 "nbformat_minor": 4
}
