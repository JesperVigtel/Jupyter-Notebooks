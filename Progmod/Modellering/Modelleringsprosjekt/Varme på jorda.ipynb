{
 "cells": [
  {
   "cell_type": "markdown",
   "metadata": {},
   "source": [
    "## Varme på jorda fra sola\n",
    "\n"
   ]
  },
  {
   "cell_type": "code",
   "execution_count": 13,
   "metadata": {},
   "outputs": [
    {
     "data": {
      "text/plain": [
       "-18.57181028435133"
      ]
     },
     "execution_count": 13,
     "metadata": {},
     "output_type": "execute_result"
    }
   ],
   "source": [
    "import math\n",
    "\n",
    "innstråling = 1361 #watt/m2\n",
    "radius_jorden = 6371e3\n",
    "albedo = 0.3 #refleksjonskonstant\n",
    "straaling_jord = innstråling*(1-albedo)*(math.pi)*radius_jorden**2\n",
    "straaling_jord\n",
    "\n",
    "sigma = 5.67037e-8\n",
    "#straaling_jord = energi_ut\n",
    "temperatur = ((innstråling*(1-albedo))/(4*sigma))**(1/4)\n",
    "\n",
    "temperatur = temperatur - 273.15\n",
    "\n",
    "temperatur\n"
   ]
  },
  {
   "cell_type": "code",
   "execution_count": null,
   "metadata": {},
   "outputs": [],
   "source": []
  }
 ],
 "metadata": {
  "kernelspec": {
   "display_name": "Python 3",
   "language": "python",
   "name": "python3"
  },
  "language_info": {
   "codemirror_mode": {
    "name": "ipython",
    "version": 3
   },
   "file_extension": ".py",
   "mimetype": "text/x-python",
   "name": "python",
   "nbconvert_exporter": "python",
   "pygments_lexer": "ipython3",
   "version": "3.8.3"
  }
 },
 "nbformat": 4,
 "nbformat_minor": 4
}
