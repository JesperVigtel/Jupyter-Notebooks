{
 "metadata": {
  "language_info": {
   "codemirror_mode": {
    "name": "ipython",
    "version": 3
   },
   "file_extension": ".py",
   "mimetype": "text/x-python",
   "name": "python",
   "nbconvert_exporter": "python",
   "pygments_lexer": "ipython3",
   "version": "3.8.3-final"
  },
  "orig_nbformat": 2,
  "kernelspec": {
   "name": "python3",
   "display_name": "Python 3.8.3 64-bit ('base': conda)",
   "metadata": {
    "interpreter": {
     "hash": "344443636c3027c5042750c9c609acdda283a9c43681b128a8c1053e7ad2aa7d"
    }
   }
  }
 },
 "nbformat": 4,
 "nbformat_minor": 2,
 "cells": [
  {
   "source": [
    "# Rapport: temperaturmodellering\n",
    "Jesper Vigtel Hølland\n",
    "\n",
    "### 1. Hensikt\n",
    "Vi skal utforske ulike modeller for temperaturendring på jorda. \n",
    "\n",
    "### 2. Teori \n",
    "\n",
    "Noe av teorien som er nødvendig for  å løse denne oppgaven kan være ukjent for dere.  Under kommer enenkel forklaring p ̊a noe av teorien dere trenger.\n",
    "#### 2.1    Stefan-Boltzmanns lov\n",
    "Alle gjenstander som har en temperatur over absolutt nullpunkt vil utgi varmestråling. Varmestr åling er elektromagnetisk stråling som fører varme (energi) til eller fra et system.  Det er mulig  ̊a beregne varmestr ̊alingenfra en gjenstand n ̊ar man kjenner gjenstandens temperatur og areal ved  ̊a bruke Stefan-Boltzmanns naturlov. Matematisk kan denne loven skrives:\n",
    "$$ S=σT^4 $$\n",
    "Stefan-Boltzmanns konstant og er lik 5,6703∗10−8W/(m2K4), og temperaturenTer m ̊alt i Kelvin. S vil da være lik str ̊alingen fra et legeme gitt iW/m2, og man m ̊a tenke p ̊a arealet til legemet for  ̊a f ̊a denfullstendige str ̊alingen.\n",
    "\n",
    "#### 2.2 Kalkulering av gjennomsnittlig elektromagnetisk stråling\n",
    "Solkonstanten er m ̊alt gjennomsnittlig elektromagnetisk str ̊aling (energi) fra solen som treffer vertikalt p ̊ajordklodens atmosfære.  Energien som treffer toppen av atmosfæren har bare variert med 0.2 prosent p ̊a 400 ̊ar.  Det blir derfor kalt for en konstant.  Denne konstanten er m ̊alt til 1361W/m2.  Det g ̊ar an  ̊a kalkuleregjennomsnittlig elektromagnetisk str ̊aling som treffer en planet ved  ̊a bruke solens varmestr ̊aling og distansemellom solen og planeten i solsystemet.  Matematisk vil det se ut:\n",
    "$$ S= \\frac {radius_soldistanse}{radius_(sol \n",
    "og planet)}∗varmestrålin_sol $$ hvor S er den gjennomsnittlige str ̊alingen som treffer planeten iW/m2.\n",
    "#### 2.3    Energiprinsippet\n",
    "Energiprinsippet er loven om at energi er konstant.  Det vil si at energi ikke kan skapes eller tilintetgjøres.  Viser p ̊a planeter som et lukket system som blir tilført varmestr ̊aling fra verdensrommet (hovedsakelig solen),og sender ut varmestr ̊aling til verdensrommet.  Det gir tre muligheter:\n",
    "##### 1.Mer str ̊aling tilført enn sendt ut.  Planeten varmes opp over tid.\n",
    "##### 2.Mer str ̊aling sendt ut enn tilført.  Planeten blir kaldere over tid.\n",
    "##### 3.Energi inn = Energi ut.  Temperaturen p ̊a planeten er konstant.\n",
    "#### 2.4 Forenklet atmosfære\n",
    "Jordkloden har en gjennomsnittlig positiv temperatur p ̊a grunn av atmosfæren.  Denne temperaturen er målt til ca.  15◦C. Det vil være nødvendig å legge til et utrykk for atmosfæren for å ha en modell av jordklodensom gir temperaturverdier i nærheten av de målte verdiene.  En metode for dette er  ̊a bruke tre antagelser(og ingen av antagelsene er faktisk sanne!)  for  ̊a f ̊a et forenklet utrykk av atmosfæren.  Disse antagelsene er:\n",
    "1.  Atmosfæren har en konstant temperatur - dvs.  at atmosfæren er en stor blokk hvor hele blokken harden samme temperaturen.\n",
    "2.  Atmosfæren  er  fullstendig  gjennomsiktig  for  stråling  fra  solen  -  dvs.   at  all  stråling  fra  solen  trefferjordoverflaten.\n",
    "3.  Atmosfæren tar imot all stråling fra jorden.I  figuren  nedenfor  er  situasjonen  tegnet.   Atmosfæren  er  en  tenkt  blokk  som  vist  i  grå  farge.   Str ̊alingenfra solen g ̊ar rett igjennom atmosfæren og treffer jordoverflaten (1).  Jordkloden sender ut varmestråling ogall strålingen treffer atmosfæren (3).  Situasjonen til atmosfæren vil da være at den sender ut str ̊aling tilverdensrommet, men også stråling tilbake til jorden (2).  Stefan-Boltzmanns lov vil gjelde for både jordkloden og atmosfæren.\n"
   ],
   "cell_type": "markdown",
   "metadata": {}
  },
  {
   "source": [
    "## 3 Oppgave\n",
    " #### 1.  \n",
    " Start  med  ̊a  lage  et  program  som  kalkulerer  gjennomsnittlig  varmestr ̊aling  som  treffer  vertikalt  p ̊ajordklodens atmosfære.  Mengden du f ̊ar kan variere noe fra den m ̊alte solkonstanten.  Prøv  ̊a forklarhvorfor denne formelen fungerer.  For  ̊a f ̊a tips kan det være nyttig  ̊a se p ̊a forklaringen her - ”Solarradiation in space.”\n",
    " \n",
    " #### 2.\n",
    "Bruk energiprinsippet og Stefan-Boltzmanns lov til  ̊a lage et utrykk for gjennomsnittlig temperaturp ̊a jorden.  Noe av innstr ̊alingen fra solen vil bli reflektert, og m ̊alet for refleksjonen til en flate kallesalbedo.  Legg til denne refleksjonsfaktoren for jordkloden og kalkuler temperaturen p ̊a jorden.  Anta attemperaturen p ̊a planeten er konstant, og at planeten er en flat sirkel.Hvorfor kan vi anta at planeten er en flat sirkel?gjennomsnittlig temperatur p ̊a jordkloden er m ̊alt til ca +15◦C, diskuter resultatet dit opp mot denm ̊alte temperaturen.\n",
    "   \n",
    " ####  3. \n",
    "  Legg  til  en  forenklet  modell  av  atmosfæren  som  et  ledd  i  kalkuleringen  av  temperaturen.   Hvordanp ̊avirker det temperaturen din?  Tips, bruk figuren:\n",
    "  \n",
    "     (a)  Anta  to  systemer  hvor Energi inn =Energi ut.   Det  ene  systemet  vil  være  varmestr ̊aling  frasolen  inn  i  systemet  og  varmestr ̊aling  ut  av  systemet  fra  atmosfæren  til  verdensrommet.   Detandre systemet vil være all varmestr ̊aling som treffer jordoverflaten (pil 1 og pil 2 nedover), ogvarmestr ̊aling ut fra jordoverflaten (pil 3).\n",
    "  \n",
    "     (b)  Bruk Stefan-Boltzmanns lov for varmestr ̊aling fra jorden og atmosfæren.  Lag et ligningssystemmed to ukjente og løs for temperaturen ved jordoverflaten.\n",
    "   \n",
    "#### 4.\n",
    "Atmosfæren tar egentlig ikke opp all energien som jordkloden sender ut, og all varmestr ̊aling fra soleng ̊ar heller ikke direkte gjennom atmosfæren.  Her kan det være flere m ̊ater  ̊a forandre modellen p ̊a.Prøv deg fram om du har noen ideer til  ̊a forandre atmosfæren i modellen.  Grunngi hva du gjør.\n",
    "  \n",
    "#### 6. \n",
    "Frem til n ̊a har vi behandlet jordkloden som et stort punkt.  Prøv n ̊a  ̊a velg et punkt p ̊a planeten, ogprøv  ̊a modellere temperaturen p ̊a dette punktet gjennom et helt  ̊ar.  Det vil da være enklest  ̊a velgeet punkt ved ekvator, men du st ̊ar fritt til  ̊a prøve deg fram.  Grunngi valgene du tar."
   ],
   "cell_type": "markdown",
   "metadata": {}
  },
  {
   "source": [
    "Det som hovedsakelig varmer opp planeten vår, er sollys. Solen sender ut energi i form av elektromagnetisk stråling som treffer jordkloden. All elektromagnetisk stråling som treffer toppen av atmosfæren, har blitt målt til ca 1361 kW/m$^2$ Hvor mye energi som treffer toppen av atmosfæren er nesten konstant, og har bare variert med 0.2 prosent på 400 år. Strålingen blir kalt for _solkonstanten_."
   ],
   "cell_type": "markdown",
   "metadata": {}
  },
  {
   "source": [
    "### Oppgave 1: \n",
    "Varmestråling som treffer Jorda fra Sola. \n",
    "Vi bruker formelen : \n",
    "$$ S=σT^4 $$ for strålingen fra sola, og \n",
    "$$ S = \\frac {radius_{sol}}{distanse_{sol\\ og\\ planet}}*varmestråling\\ sol $$\n",
    "setter vi de sammen, får vi at \n",
    "$$ Varmestråling\\ sol = \\frac{σT^4*distanse_{sol\\ og\\ planet}}{radius_{sol}}$$"
   ],
   "cell_type": "markdown",
   "metadata": {}
  },
  {
   "cell_type": "code",
   "execution_count": 28,
   "metadata": {},
   "outputs": [
    {
     "output_type": "stream",
     "name": "stdout",
     "text": [
      "1114577187760656\n63199870.27759248\nVarmestrålingen fra Sola på Jorda er: 13577707.145256389 kW/m^2\n"
     ]
    }
   ],
   "source": [
    "from pylab import *\n",
    "\n",
    "SB = 5.6703*1e-08  #Stefan-Boltzmans konstant\n",
    "T_sol = 5778           #Temperatur Sola i Kelvin\n",
    "r_sol = 696340*1e03    #radiusen til sola i meter\n",
    "distanse = 1.496*1e11  #Gjennomsnittsavstand fra Jorda til Sola i meter\n",
    "\n",
    "def S(temp):\n",
    "    return SB*temp**4\n",
    "print(S(T_sol))\n",
    "\n",
    "def varmestråling(Stråling,distanse,radius):\n",
    "    return (Stråling*distanse)/radius\n",
    "\n",
    "stråling_sol = S(T_sol)\n",
    "varmestråling_sola = varmestråling(stråling_sol,distanse,r_sol)\n",
    "\n",
    "print(\"Varmestrålingen fra Sola på Jorda er:\", varmestråling_sola/1000, \"kW/m^2\")\n",
    "\n",
    "\n"
   ]
  },
  {
   "cell_type": "code",
   "execution_count": null,
   "metadata": {},
   "outputs": [],
   "source": []
  }
 ]
}