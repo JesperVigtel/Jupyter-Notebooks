{
 "cells": [
  {
   "cell_type": "markdown",
   "metadata": {},
   "source": [
    "# Finne nullpunkt\n",
    "\n",
    "### Halveringsmetoden\n"
   ]
  },
  {
   "cell_type": "code",
   "execution_count": 7,
   "metadata": {},
   "outputs": [
    {
     "name": "stdout",
     "output_type": "stream",
     "text": [
      "-2.5\n"
     ]
    }
   ],
   "source": [
    "def f(x):\n",
    "    return 2*x+5\n",
    "\n",
    "a = -5\n",
    "b =5\n",
    "m = (a+b)/2\n",
    "toleranse = 1E-8\n",
    "\n",
    "while abs(f(m)) >= toleranse:\n",
    "    if f(a)*f(m) < 0:\n",
    "        b = m\n",
    "    elif f(b)*f(m)<0:\n",
    "        a = m\n",
    "    m = (a+b)/2\n",
    "\n",
    "print(m)"
   ]
  },
  {
   "cell_type": "markdown",
   "metadata": {},
   "source": [
    "### Andre metoder\n",
    "\n",
    "### Newtons metode:\n"
   ]
  },
  {
   "cell_type": "code",
   "execution_count": 37,
   "metadata": {},
   "outputs": [
    {
     "name": "stdout",
     "output_type": "stream",
     "text": [
      "Nullpunktet er:  5.532982086544637 og løkka gikk  4  ganger\n"
     ]
    }
   ],
   "source": [
    "def f(x):\n",
    "    return x**3+x**2-200\n",
    "\n",
    "#Newtons kvotient\n",
    "def fder(f, x, dx=1E-8):\n",
    "    return (f(x+dx)-f(x))/dx\n",
    "\n",
    "x = 5\n",
    "toleranse = 1E-8\n",
    "\n",
    "i = 0\n",
    "maks_i = 100\n",
    "\n",
    "#Newtons metode\n",
    "while abs(f(x)) >= toleranse and i < maks_i:\n",
    "    x = x-(f(x)/fder(f,x))\n",
    "    i += 1\n",
    "    \n",
    "print(\"Nullpunktet er: \", x, \"og løkka gikk \", i ,\" ganger\")"
   ]
  },
  {
   "cell_type": "code",
   "execution_count": 28,
   "metadata": {},
   "outputs": [
    {
     "data": {
      "image/png": "[encoded data removed]",
      "text/plain": [
       "<Figure size 432x288 with 1 Axes>"
      ]
     },
     "metadata": {
      "needs_background": "light"
     },
     "output_type": "display_data"
    }
   ],
   "source": [
    "from pylab import *\n",
    "\n",
    "def f(x):\n",
    "    return x**3+x**2-200\n",
    "\n",
    "xliste = linspace(-10,10,1000)\n",
    "yliste = f(xliste)\n",
    "\n",
    "plot(xliste,yliste)\n",
    "grid()\n",
    "axhline(y=0, color = \"red\")\n",
    "show()"
   ]
  },
  {
   "cell_type": "code",
   "execution_count": null,
   "metadata": {},
   "outputs": [],
   "source": []
  }
 ],
 "metadata": {
  "kernelspec": {
   "display_name": "Python 3",
   "language": "python",
   "name": "python3"
  },
  "language_info": {
   "codemirror_mode": {
    "name": "ipython",
    "version": 3
   },
   "file_extension": ".py",
   "mimetype": "text/x-python",
   "name": "python",
   "nbconvert_exporter": "python",
   "pygments_lexer": "ipython3",
   "version": "3.8.3"
  }
 },
 "nbformat": 4,
 "nbformat_minor": 4
}
