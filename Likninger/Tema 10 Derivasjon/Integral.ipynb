{
 "cells": [
  {
   "cell_type": "markdown",
   "metadata": {},
   "source": [
    "# Integraler\n",
    "\n",
    "### Rektangelmetoden\n",
    "der $\\Delta x = \\frac {b-a}{n} $\n",
    "$$\\int_a^b f(x) dx = \\Delta x *f(x_a)+\\Delta x *f(x_a + \\Delta x)... \\Delta x *f(x_b)  $$\n",
    "\n"
   ]
  },
  {
   "cell_type": "code",
   "execution_count": 29,
   "metadata": {},
   "outputs": [
    {
     "name": "stdout",
     "output_type": "stream",
     "text": [
      "13.495500000000002\n"
     ]
    }
   ],
   "source": [
    "def f(x):\n",
    "    return x+2\n",
    "\n",
    "def integralet(f, a, b, N):\n",
    "    A = 0\n",
    "    dx = (b - a)/N\n",
    "    for i in range(N):\n",
    "        A = A + f(a + i*dx)*dx\n",
    "    return A\n",
    "\n",
    "print(integralet(f, 1, 4, 1000))"
   ]
  },
  {
   "cell_type": "markdown",
   "metadata": {},
   "source": [
    "### Trapesmetoden\n",
    "$$\\int_a^b f(x) dx = \\Delta x (\\frac {f(a)+ f(b)}{2} + \\sum_{k=1}^{n-1} f(x_k)) $$"
   ]
  },
  {
   "cell_type": "code",
   "execution_count": 31,
   "metadata": {},
   "outputs": [
    {
     "name": "stdout",
     "output_type": "stream",
     "text": [
      "13.5\n"
     ]
    }
   ],
   "source": [
    "#Mitt forsøk\n",
    "from pylab import *\n",
    "\n",
    "def f(x):\n",
    "    return x+2\n",
    "\n",
    "def integral(f,a,b,N):\n",
    "    høyde = 0\n",
    "    dx = (b-a)/N\n",
    "    trekant = (f(a)+f(b))/2\n",
    "    for i in range (1,N):\n",
    "        høyde += f(a+i*dx)\n",
    "    Areal = dx*(trekant + høyde)\n",
    "    return Areal\n",
    "        \n",
    "print(integral(f,1,4,10))"
   ]
  },
  {
   "cell_type": "code",
   "execution_count": 32,
   "metadata": {},
   "outputs": [
    {
     "name": "stdout",
     "output_type": "stream",
     "text": [
      "13.5\n"
     ]
    }
   ],
   "source": [
    "#Lærer:\n",
    "def trapesmetoden(f,a,b,N):\n",
    "    dx = (b-a)/N\n",
    "    A = (f(a)+f(b))/2\n",
    "    for i in range(1,N):\n",
    "        A = A + f(a+i*dx)\n",
    "    return A*dx\n",
    "\n",
    "itsatrap = trapesmetoden(f,1,4,10)\n",
    "print(itsatrap)"
   ]
  },
  {
   "cell_type": "code",
   "execution_count": 46,
   "metadata": {},
   "outputs": [
    {
     "name": "stdout",
     "output_type": "stream",
     "text": [
      "Simpsons:  93.0\n",
      "Trapes:  93.00000000045002\n",
      "Kvadrat:  (93.0, 1.0325074129013956e-12)\n",
      "8.0\n"
     ]
    }
   ],
   "source": [
    "from scipy.integrate import simps, trapz, quad\n",
    "from scipy.misc import derivative\n",
    "from pylab import *\n",
    "\n",
    "def f(x):\n",
    "    return x**2+6*x+9\n",
    "x = linspace(1,4,100000)\n",
    "y = f(x)\n",
    "\n",
    "simpson = simps(y,x)\n",
    "trapes = trapz(y,x)\n",
    "kvadd = quad(f,1,4)\n",
    "der = derivative(f,1)\n",
    "print(\"Simpsons: \", simpson)\n",
    "print(\"Trapes: \", trapes)\n",
    "print(\"Kvadrat: \", kvadd)\n",
    "print(der)"
   ]
  },
  {
   "cell_type": "code",
   "execution_count": null,
   "metadata": {},
   "outputs": [],
   "source": []
  },
  {
   "cell_type": "code",
   "execution_count": null,
   "metadata": {},
   "outputs": [],
   "source": []
  }
 ],
 "metadata": {
  "kernelspec": {
   "display_name": "Python 3",
   "language": "python",
   "name": "python3"
  },
  "language_info": {
   "codemirror_mode": {
    "name": "ipython",
    "version": 3
   },
   "file_extension": ".py",
   "mimetype": "text/x-python",
   "name": "python",
   "nbconvert_exporter": "python",
   "pygments_lexer": "ipython3",
   "version": "3.8.3"
  }
 },
 "nbformat": 4,
 "nbformat_minor": 4
}
