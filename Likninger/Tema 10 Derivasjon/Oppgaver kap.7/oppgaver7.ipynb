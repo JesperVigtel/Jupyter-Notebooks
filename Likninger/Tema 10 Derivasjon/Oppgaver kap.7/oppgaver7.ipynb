{
 "cells": [
  {
   "cell_type": "markdown",
   "metadata": {},
   "source": [
    "# Oppgaver\n",
    "\n",
    "### 7.1"
   ]
  },
  {
   "cell_type": "code",
   "execution_count": 15,
   "metadata": {},
   "outputs": [
    {
     "name": "stdout",
     "output_type": "stream",
     "text": [
      "f´(2) er:  1.999999987845058\n",
      "g´(2) er:  0.0\n",
      "h´(2) er:  1.1213203698900998\n"
     ]
    }
   ],
   "source": [
    "from pylab import math\n",
    "def f(x):\n",
    "    return 2*x+1\n",
    "def g(x):\n",
    "    return x**2-4*x+5\n",
    "def h(x):\n",
    "    return 6*x**0.5-x\n",
    "\n",
    "def derivert(f,x,dx=1E-8):\n",
    "    fder = (f(x+dx)-f(x))/dx\n",
    "    return fder\n",
    "print(\"f´(2) er: \", derivert(f,2,))\n",
    "print(\"g´(2) er: \", derivert(g,2,))\n",
    "print(\"h´(2) er: \", derivert(h,2,))"
   ]
  },
  {
   "cell_type": "code",
   "execution_count": null,
   "metadata": {},
   "outputs": [],
   "source": []
  },
  {
   "cell_type": "code",
   "execution_count": null,
   "metadata": {},
   "outputs": [],
   "source": []
  },
  {
   "cell_type": "code",
   "execution_count": null,
   "metadata": {},
   "outputs": [],
   "source": []
  },
  {
   "cell_type": "code",
   "execution_count": null,
   "metadata": {},
   "outputs": [],
   "source": []
  }
 ],
 "metadata": {
  "kernelspec": {
   "display_name": "Python 3",
   "language": "python",
   "name": "python3"
  },
  "language_info": {
   "codemirror_mode": {
    "name": "ipython",
    "version": 3
   },
   "file_extension": ".py",
   "mimetype": "text/x-python",
   "name": "python",
   "nbconvert_exporter": "python",
   "pygments_lexer": "ipython3",
   "version": "3.8.3"
  }
 },
 "nbformat": 4,
 "nbformat_minor": 4
}
