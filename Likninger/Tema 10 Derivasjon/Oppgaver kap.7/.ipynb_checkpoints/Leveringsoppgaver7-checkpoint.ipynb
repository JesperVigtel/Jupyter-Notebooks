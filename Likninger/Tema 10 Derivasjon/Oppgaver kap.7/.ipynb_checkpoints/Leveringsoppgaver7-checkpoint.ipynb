{
 "cells": [
  {
   "cell_type": "markdown",
   "metadata": {},
   "source": [
    "# Kapittel 7, leveringsoppgaver"
   ]
  },
  {
   "cell_type": "markdown",
   "metadata": {},
   "source": [
    "### 7.3\n",
    "\n",
    "Verdien gitt for h, kan ha vært for liten eller for stor, som har ført til at det har blitt store uregelheter i den deriverte. "
   ]
  },
  {
   "cell_type": "markdown",
   "metadata": {},
   "source": [
    "### 7.9\n",
    "\n",
    "Definisjonen av integralet er at det er arealet under grafen. For å finne integralet kan vi derfor bruke rektangler til å finne arealet. Dette gjør vi ved begrense bredden til rektanglene, og høyden er $f(x_i)$ der $x_i$ er x-kordinatet. Hvis vi da regner ut arealet til n-antall rektangler, mellom to punkter a og b, får vi formelen:\n",
    "\n",
    "$$\\int_a^b f(x) dx = $$"
   ]
  },
  {
   "cell_type": "code",
   "execution_count": null,
   "metadata": {},
   "outputs": [],
   "source": []
  },
  {
   "cell_type": "code",
   "execution_count": null,
   "metadata": {},
   "outputs": [],
   "source": []
  }
 ],
 "metadata": {
  "kernelspec": {
   "display_name": "Python 3",
   "language": "python",
   "name": "python3"
  },
  "language_info": {
   "codemirror_mode": {
    "name": "ipython",
    "version": 3
   },
   "file_extension": ".py",
   "mimetype": "text/x-python",
   "name": "python",
   "nbconvert_exporter": "python",
   "pygments_lexer": "ipython3",
   "version": "3.8.3"
  }
 },
 "nbformat": 4,
 "nbformat_minor": 4
}
