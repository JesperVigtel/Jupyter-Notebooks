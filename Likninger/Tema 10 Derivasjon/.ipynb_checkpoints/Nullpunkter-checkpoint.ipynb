{
 "cells": [
  {
   "cell_type": "markdown",
   "metadata": {},
   "source": [
    "# Finne nullpunkt\n",
    "\n",
    "### Halveringsmetoden\n"
   ]
  },
  {
   "cell_type": "code",
   "execution_count": 7,
   "metadata": {},
   "outputs": [
    {
     "name": "stdout",
     "output_type": "stream",
     "text": [
      "-2.5\n"
     ]
    }
   ],
   "source": [
    "def f(x):\n",
    "    return 2*x+5\n",
    "\n",
    "a = -5\n",
    "b =5\n",
    "m = (a+b)/2\n",
    "toleranse = 1E-8\n",
    "\n",
    "while abs(f(m)) >= toleranse:\n",
    "    if f(a)*f(m) < 0:\n",
    "        b = m\n",
    "    elif f(b)*f(m)<0:\n",
    "        a = m\n",
    "    m = (a+b)/2\n",
    "\n",
    "print(m)"
   ]
  },
  {
   "cell_type": "markdown",
   "metadata": {},
   "source": [
    "### Andre metoder\n",
    "\n",
    "### Newtons metode:\n"
   ]
  },
  {
   "cell_type": "code",
   "execution_count": 11,
   "metadata": {},
   "outputs": [
    {
     "name": "stdout",
     "output_type": "stream",
     "text": [
      "-2.4999999999999996\n"
     ]
    }
   ],
   "source": [
    "def f(x):\n",
    "    return 2*x+5\n",
    "\n",
    "def fder(f, x, dx=1E-8):\n",
    "    return (f(x+dx)-f(x))/dx\n",
    "\n",
    "x = 5\n",
    "toleranse = 1E-8\n",
    "while abs(f(x)) >= toleranse:\n",
    "    x = x-(f(x)/fder(f,x))\n",
    "    \n",
    "print(x)"
   ]
  },
  {
   "cell_type": "code",
   "execution_count": null,
   "metadata": {},
   "outputs": [],
   "source": []
  }
 ],
 "metadata": {
  "kernelspec": {
   "display_name": "Python 3",
   "language": "python",
   "name": "python3"
  },
  "language_info": {
   "codemirror_mode": {
    "name": "ipython",
    "version": 3
   },
   "file_extension": ".py",
   "mimetype": "text/x-python",
   "name": "python",
   "nbconvert_exporter": "python",
   "pygments_lexer": "ipython3",
   "version": "3.8.3"
  }
 },
 "nbformat": 4,
 "nbformat_minor": 4
}
