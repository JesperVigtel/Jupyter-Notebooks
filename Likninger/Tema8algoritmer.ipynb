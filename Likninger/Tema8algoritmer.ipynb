{
 "cells": [
  {
   "cell_type": "markdown",
   "metadata": {},
   "source": [
    "# Tema 8: algoritmer"
   ]
  },
  {
   "cell_type": "code",
   "execution_count": 9,
   "metadata": {},
   "outputs": [
    {
     "name": "stdout",
     "output_type": "stream",
     "text": [
      "4\n",
      "3\n",
      "1\n",
      "4\n",
      "3\n",
      "1\n",
      "5\n",
      "4\n",
      "6\n",
      "6\n"
     ]
    }
   ],
   "source": [
    "from pylab import *\n",
    "\n",
    "\n",
    "N = 10\n",
    "for i in range(N):\n",
    "    kast = randint(1,7)\n",
    "    print(kast)\n"
   ]
  },
  {
   "cell_type": "code",
   "execution_count": 13,
   "metadata": {},
   "outputs": [
    {
     "name": "stdout",
     "output_type": "stream",
     "text": [
      "0.9473817525691128\n"
     ]
    }
   ],
   "source": [
    "tall = uniform(-1,3)\n",
    "print(tall)"
   ]
  },
  {
   "cell_type": "markdown",
   "metadata": {},
   "source": [
    "### Eksempeloppgave terning"
   ]
  },
  {
   "cell_type": "code",
   "execution_count": 56,
   "metadata": {},
   "outputs": [
    {
     "name": "stdout",
     "output_type": "stream",
     "text": [
      "Vi får 6-er: 2 ganger, og 1-er: 1 ganger.\n",
      "Den relative frekvensen til 6 er:  0.3333333333333333\n"
     ]
    },
    {
     "data": {
      "image/png": "[encoded data removed]",
      "text/plain": [
       "<Figure size 432x288 with 1 Axes>"
      ]
     },
     "metadata": {
      "needs_background": "light"
     },
     "output_type": "display_data"
    }
   ],
   "source": [
    "Tall = []\n",
    "Sexfrekvens = []\n",
    "kaster = []\n",
    "n = 6\n",
    "for i in range(1,n+1):\n",
    "    Kast = randint(1,7)\n",
    "    Tall.append(Kast)\n",
    "    relseks = Tall.count(6)/(i)\n",
    "    Sexfrekvens.append(relseks)\n",
    "    kaster.append(i)\n",
    "    \n",
    "sekser = Tall.count(6)\n",
    "relseks = sekser/n\n",
    "print(\"Vi får 6-er:\", sekser, \"ganger, og 1-er:\", Tall.count(1), \"ganger.\")\n",
    "print(\"Den relative frekvensen til 6 er: \", sekser/n)\n",
    "\n",
    "plot(kaster,Sexfrekvens)\n",
    "xlabel(\"Antall kast\")\n",
    "ylabel(\"Relativ frekvens for sekser\")\n",
    "show()"
   ]
  },
  {
   "cell_type": "code",
   "execution_count": null,
   "metadata": {},
   "outputs": [],
   "source": [
    "Terning = []\n",
    "def frekvensen(kast,tall):\n",
    "    for i in range (kast):\n",
    "        K = randint(1,7)\n",
    "        Terning.append(K)\n",
    "    frekvens = Terning.count(tall)/kast\n",
    "    return frekvens\n",
    "print(frekvensen(10000,6))\n",
    "    \n"
   ]
  },
  {
   "cell_type": "code",
   "execution_count": null,
   "metadata": {},
   "outputs": [],
   "source": []
  }
 ],
 "metadata": {
  "kernelspec": {
   "display_name": "Python 3",
   "language": "python",
   "name": "python3"
  },
  "language_info": {
   "codemirror_mode": {
    "name": "ipython",
    "version": 3
   },
   "file_extension": ".py",
   "mimetype": "text/x-python",
   "name": "python",
   "nbconvert_exporter": "python",
   "pygments_lexer": "ipython3",
   "version": "3.8.3"
  }
 },
 "nbformat": 4,
 "nbformat_minor": 4
}
